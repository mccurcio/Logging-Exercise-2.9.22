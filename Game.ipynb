{
 "cells": [
  {
   "cell_type": "code",
   "execution_count": 5,
   "metadata": {},
   "outputs": [
    {
     "name": "stdout",
     "output_type": "stream",
     "text": [
      "AOK\n"
     ]
    }
   ],
   "source": [
    "import random\n",
    "import math\n",
    "import logging\n",
    "print('AOK')"
   ]
  },
  {
   "cell_type": "code",
   "execution_count": 6,
   "metadata": {},
   "outputs": [
    {
     "name": "stderr",
     "output_type": "stream",
     "text": [
      "DEBUG:root:This is a debug message\n",
      "INFO:root:This is an info message\n",
      "WARNING:root:This is a warning message\n",
      "ERROR:root:This is an error message\n",
      "CRITICAL:root:This is a critical message\n"
     ]
    },
    {
     "name": "stdout",
     "output_type": "stream",
     "text": [
      "logging.root.level: 10\n"
     ]
    }
   ],
   "source": [
    "# set level\n",
    "# create logger and set the logging level\n",
    "logging.basicConfig(level=logging.DEBUG)\n",
    "\n",
    "# Run the same code\n",
    "logging.debug(\"This is a debug message\")\n",
    "logging.info(\"This is an info message\")\n",
    "logging.warning(\"This is a warning message\")\n",
    "logging.error(\"This is an error message\")\n",
    "logging.critical(\"This is a critical message\")\n",
    "\n",
    "# root is the name of the default logger\n",
    "print(f\"logging.root.level: {logging.root.level}\")"
   ]
  },
  {
   "cell_type": "code",
   "execution_count": 8,
   "metadata": {},
   "outputs": [
    {
     "name": "stderr",
     "output_type": "stream",
     "text": [
      "WARNING:root:The game has begun.\n"
     ]
    },
    {
     "name": "stdout",
     "output_type": "stream",
     "text": [
      "Would you like to play a game of nuclear holocaust.\n"
     ]
    },
    {
     "name": "stderr",
     "output_type": "stream",
     "text": [
      "WARNING:root:Lower bound was entered=5\n"
     ]
    }
   ],
   "source": [
    "## FIXME: Add logging for start of game\n",
    "\n",
    "print('Would you like to play a game of nuclear holocaust.')\n",
    "# # example 3 add date and time format\n",
    "logging.basicConfig(\n",
    "     format='%(asctime)s - %(message)s',\n",
    "     datefmt='%d-%b-%y %H:%M:%S',\n",
    ")\n",
    "logging.warning('The game has begun.')\n",
    "\n",
    "# Taking Inputs\n",
    "lower = int(input(\"Enter Lower bound:- \"))\n",
    "logging.warning('Lower bound was entered=%s', lower)\n"
   ]
  },
  {
   "cell_type": "code",
   "execution_count": 11,
   "metadata": {},
   "outputs": [
    {
     "name": "stderr",
     "output_type": "stream",
     "text": [
      "WARNING:root:Upper bound was entered=10\n"
     ]
    }
   ],
   "source": [
    "\n",
    "# Taking Inputs\n",
    "upper = int(input(\"Enter Upper bound:- \"))\n",
    "logging.warning('Upper bound was entered=%s', upper)\n"
   ]
  },
  {
   "cell_type": "code",
   "execution_count": 12,
   "metadata": {},
   "outputs": [
    {
     "name": "stdout",
     "output_type": "stream",
     "text": [
      "\n",
      "\tYou've only  3  chances to guess the integer!\n",
      "\n"
     ]
    }
   ],
   "source": [
    "\n",
    "# generating random number between\n",
    "# the lower and upper\n",
    "target_number = random.randint(lower, upper)\n",
    "print(\n",
    "    \"\\n\\tYou've only \",\n",
    "    round(math.log(upper - lower + 1, 2)),\n",
    "    \" chances to guess the integer!\\n\",\n",
    ")"
   ]
  },
  {
   "cell_type": "code",
   "execution_count": 18,
   "metadata": {},
   "outputs": [
    {
     "name": "stderr",
     "output_type": "stream",
     "text": [
      "INFO:root:guess_count=0 at this time\n",
      "INFO:root:The player\"s guess was not correct.\n"
     ]
    },
    {
     "name": "stdout",
     "output_type": "stream",
     "text": [
      "The player Guessed too high!\n"
     ]
    },
    {
     "name": "stderr",
     "output_type": "stream",
     "text": [
      "INFO:root:The player\"s guess was not correct.\n"
     ]
    },
    {
     "name": "stdout",
     "output_type": "stream",
     "text": [
      "The player Guessed too high!\n"
     ]
    },
    {
     "name": "stderr",
     "output_type": "stream",
     "text": [
      "INFO:root:The player\"s guess was not correct.\n"
     ]
    },
    {
     "name": "stdout",
     "output_type": "stream",
     "text": [
      "The player Guessed too high!\n"
     ]
    }
   ],
   "source": [
    "\n",
    "# Initializing the number of guesses.\n",
    "guess_count = 0\n",
    "logging.info('guess_count=0 at this time')\n",
    "\n",
    "# for calculation of minimum number of\n",
    "# guesses depends upon range\n",
    "while guess_count < math.log(upper - lower + 1, 2):\n",
    "    guess_count += 1\n",
    "\n",
    "    # taking guessing number as input\n",
    "    guess = int(input(\"Guess a number:- \"))\n",
    "\n",
    "    # Condition testing\n",
    "    if target_number == guess:\n",
    "        print(\"Congratulations you did it in \", guess_count, \" try\")\n",
    "        # Once guessed, loop will break\n",
    "        # FIXME: Add logging for correct guess\n",
    "        break\n",
    "    elif target_number > guess:\n",
    "        print(\"The palyer guessed too small!\")\n",
    "    elif target_number < guess:\n",
    "        print(\"The player Guessed too high!\")\n",
    "\n",
    "    # FIXME: Add logging for wrong guess\n",
    "    logging.info('The player\"s guess was not correct.')\n"
   ]
  },
  {
   "cell_type": "code",
   "execution_count": 19,
   "metadata": {},
   "outputs": [
    {
     "name": "stderr",
     "output_type": "stream",
     "text": [
      "INFO:root:The game has ended.\n"
     ]
    },
    {
     "name": "stdout",
     "output_type": "stream",
     "text": [
      "\n",
      "The number is 7\n",
      "\tBetter Luck Next time!\n"
     ]
    }
   ],
   "source": [
    "# If Guessing is more than required guesses,\n",
    "# shows this output.\n",
    "if guess_count >= math.log(upper - lower + 1, 2):\n",
    "    print(\"\\nThe number is %d\" % target_number)\n",
    "    print(\"\\tBetter Luck Next time!\")\n",
    "\n",
    "# FIXME: Add logging for end of game\n",
    "logging.info('The game has ended.')"
   ]
  }
 ],
 "metadata": {
  "kernelspec": {
   "display_name": "base",
   "language": "python",
   "name": "python3"
  },
  "language_info": {
   "codemirror_mode": {
    "name": "ipython",
    "version": 3
   },
   "file_extension": ".py",
   "mimetype": "text/x-python",
   "name": "python",
   "nbconvert_exporter": "python",
   "pygments_lexer": "ipython3",
   "version": "3.9.16"
  },
  "orig_nbformat": 4,
  "vscode": {
   "interpreter": {
    "hash": "ee253db64471d3bc5400655757329a6a33de9a5ca06cae94740881a9d5095460"
   }
  }
 },
 "nbformat": 4,
 "nbformat_minor": 2
}
